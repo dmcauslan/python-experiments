{
 "cells": [
  {
   "cell_type": "code",
   "execution_count": 15,
   "metadata": {
    "collapsed": true
   },
   "outputs": [
    {
     "data": {
      "text/plain": "{'divide': 'warn', 'over': 'warn', 'under': 'warn', 'invalid': 'warn'}"
     },
     "execution_count": 15,
     "metadata": {},
     "output_type": "execute_result"
    }
   ],
   "source": [
    "import numpy as np\n",
    "np.seterr(all='warn')"
   ]
  },
  {
   "cell_type": "code",
   "execution_count": 26,
   "outputs": [
    {
     "data": {
      "text/plain": "numpy.int64"
     },
     "execution_count": 26,
     "metadata": {},
     "output_type": "execute_result"
    }
   ],
   "source": [
    "arr = np.array([2147483647], dtype='int32')\n",
    "val = arr[0]\n",
    "type(val + 1)"
   ],
   "metadata": {
    "collapsed": false,
    "pycharm": {
     "name": "#%%\n"
    }
   }
  },
  {
   "cell_type": "code",
   "execution_count": 37,
   "outputs": [
    {
     "name": "stdout",
     "output_type": "stream",
     "text": [
      "Adding 1 to array[0] would overflow dtype=int64. Current value=9223372036854775807. Returning=9223372036854775807\n",
      "Adding 1 to array[0] would overflow dtype=int32. Current value=2147483647. Returning=2147483647\n"
     ]
    }
   ],
   "source": [
    "def add_or_clip_to_dtype_max(array, index, increment):\n",
    "    dtype = array.dtype\n",
    "    max_val = np.iinfo(dtype).max\n",
    "    if max_val - array[index] >= increment:\n",
    "        array[index] += increment\n",
    "    else:\n",
    "        print(f'Adding {increment} to array[{index}] would overflow dtype={dtype}. Current value={array[index]}. Returning={max_val}')\n",
    "        array[index] = max_val\n",
    "\n",
    "arr64 = np.array([9223372036854775807], dtype='int64')\n",
    "arr32 = np.array([2147483647], dtype='int32')\n",
    "add_or_clip_to_dtype_max(arr64, 0, 1)\n",
    "add_or_clip_to_dtype_max(arr32, 0, 1)"
   ],
   "metadata": {
    "collapsed": false,
    "pycharm": {
     "name": "#%%\n"
    }
   }
  },
  {
   "cell_type": "code",
   "execution_count": null,
   "outputs": [],
   "source": [],
   "metadata": {
    "collapsed": false,
    "pycharm": {
     "name": "#%%\n"
    }
   }
  }
 ],
 "metadata": {
  "kernelspec": {
   "display_name": "Python 3",
   "language": "python",
   "name": "python3"
  },
  "language_info": {
   "codemirror_mode": {
    "name": "ipython",
    "version": 2
   },
   "file_extension": ".py",
   "mimetype": "text/x-python",
   "name": "python",
   "nbconvert_exporter": "python",
   "pygments_lexer": "ipython2",
   "version": "2.7.6"
  }
 },
 "nbformat": 4,
 "nbformat_minor": 0
}